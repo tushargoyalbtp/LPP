{
  "nbformat": 4,
  "nbformat_minor": 0,
  "metadata": {
    "colab": {
      "name": "TUSHAR GOYAL_R103218163_Lab-3",
      "provenance": [],
      "authorship_tag": "ABX9TyOl1HgnYBY7mkgtk+vx+Ow1",
      "include_colab_link": true
    },
    "kernelspec": {
      "name": "python3",
      "display_name": "Python 3"
    }
  },
  "cells": [
    {
      "cell_type": "markdown",
      "metadata": {
        "id": "view-in-github",
        "colab_type": "text"
      },
      "source": [
        "<a href=\"https://colab.research.google.com/github/tushargoyalbtp/LPP/blob/master/TUSHAR_GOYAL_R103218163_Lab_3.ipynb\" target=\"_parent\"><img src=\"https://colab.research.google.com/assets/colab-badge.svg\" alt=\"Open In Colab\"/></a>"
      ]
    },
    {
      "cell_type": "markdown",
      "metadata": {
        "id": "ci_sdRydGI94",
        "colab_type": "text"
      },
      "source": [
        "#Question 2\n"
      ]
    },
    {
      "cell_type": "markdown",
      "metadata": {
        "id": "UOZa9D8cGMTV",
        "colab_type": "text"
      },
      "source": [
        "##Minimize $z=20x_{1}+10x_{2}$\n",
        "###Subject to, \n",
        "####$x_{1}+2x_{2}<=40$\n",
        "#####$3x_{1}+1x_{2}>=30$\n",
        "######$4x_{1}+3x_{2}>=60$\n",
        "######$x_{1}>=0,x_{2}>=0$"
      ]
    },
    {
      "cell_type": "code",
      "metadata": {
        "id": "qn_FEoWdHEez",
        "colab_type": "code",
        "colab": {
          "base_uri": "https://localhost:8080/",
          "height": 302
        },
        "outputId": "b7a5448c-60de-447b-8e3f-29d40e947ae3"
      },
      "source": [
        "!pip install pulp\n"
      ],
      "execution_count": 1,
      "outputs": [
        {
          "output_type": "stream",
          "text": [
            "Collecting pulp\n",
            "\u001b[?25l  Downloading https://files.pythonhosted.org/packages/c3/22/5743d7b5d69f84fb63a0b4925862522dbf80e82defcd0c447afb694f3fd0/PuLP-2.3-py3-none-any.whl (40.6MB)\n",
            "\u001b[K     |████████████████████████████████| 40.6MB 106kB/s \n",
            "\u001b[?25hCollecting amply>=0.1.2\n",
            "  Downloading https://files.pythonhosted.org/packages/7f/11/33cb09557ac838d9488779b79e05a2a3c1f3ce9747cd242ba68332736778/amply-0.1.2.tar.gz\n",
            "  Installing build dependencies ... \u001b[?25l\u001b[?25hdone\n",
            "  Getting requirements to build wheel ... \u001b[?25l\u001b[?25hdone\n",
            "    Preparing wheel metadata ... \u001b[?25l\u001b[?25hdone\n",
            "Requirement already satisfied: docutils>=0.3 in /usr/local/lib/python3.6/dist-packages (from amply>=0.1.2->pulp) (0.15.2)\n",
            "Requirement already satisfied: pyparsing in /usr/local/lib/python3.6/dist-packages (from amply>=0.1.2->pulp) (2.4.7)\n",
            "Building wheels for collected packages: amply\n",
            "  Building wheel for amply (PEP 517) ... \u001b[?25l\u001b[?25hdone\n",
            "  Created wheel for amply: filename=amply-0.1.2-cp36-none-any.whl size=16573 sha256=cf78dda5c2d39a1308e35dfddb349a93ceeab6ac186f26af9fb086a8c92574a9\n",
            "  Stored in directory: /root/.cache/pip/wheels/84/18/f7/e5c3ed13ed5bb721763f77d4a924331d59ef115ce61c9d26eb\n",
            "Successfully built amply\n",
            "Installing collected packages: amply, pulp\n",
            "Successfully installed amply-0.1.2 pulp-2.3\n"
          ],
          "name": "stdout"
        }
      ]
    },
    {
      "cell_type": "code",
      "metadata": {
        "id": "p-aqhewQEj7D",
        "colab_type": "code",
        "colab": {}
      },
      "source": [
        "from pulp import *"
      ],
      "execution_count": 8,
      "outputs": []
    },
    {
      "cell_type": "code",
      "metadata": {
        "id": "bb0WrRFmHJR_",
        "colab_type": "code",
        "colab": {
          "base_uri": "https://localhost:8080/",
          "height": 50
        },
        "outputId": "00f1ea17-e17b-4f1d-d351-91c4b232b14e"
      },
      "source": [
        "Lp_problemlab3 = LpProblem(\"2nd LP problem\", LpMinimize)"
      ],
      "execution_count": 9,
      "outputs": [
        {
          "output_type": "stream",
          "text": [
            "/usr/local/lib/python3.6/dist-packages/pulp/pulp.py:1195: UserWarning: Spaces are not permitted in the name. Converted to '_'\n",
            "  warnings.warn(\"Spaces are not permitted in the name. Converted to '_'\")\n"
          ],
          "name": "stderr"
        }
      ]
    },
    {
      "cell_type": "code",
      "metadata": {
        "id": "lEQip8UgHPQb",
        "colab_type": "code",
        "colab": {}
      },
      "source": [
        "x1=LpVariable('x1', lowBound=0, cat='Continuous')\n",
        "x2=LpVariable('x2', lowBound=0, cat='Continuous')"
      ],
      "execution_count": 10,
      "outputs": []
    },
    {
      "cell_type": "code",
      "metadata": {
        "id": "lrVvm53pHRJ4",
        "colab_type": "code",
        "colab": {}
      },
      "source": [
        "Lp_problemlab3 += 20*x1+10*x2, \"z\""
      ],
      "execution_count": 11,
      "outputs": []
    },
    {
      "cell_type": "code",
      "metadata": {
        "id": "-lNgtOy7HgHx",
        "colab_type": "code",
        "colab": {}
      },
      "source": [
        "Lp_problemlab3 += x1 + 2*x2 <= 40\n",
        "Lp_problemlab3 += 3*x1 + 1*x2 >=30\n",
        "Lp_problemlab3 += 4*x1 + 3*x2 >= 60"
      ],
      "execution_count": 13,
      "outputs": []
    },
    {
      "cell_type": "code",
      "metadata": {
        "id": "cIAsQD-6IHfm",
        "colab_type": "code",
        "colab": {
          "base_uri": "https://localhost:8080/",
          "height": 235
        },
        "outputId": "d255f5ec-68d9-4422-fcce-2745d7df3da9"
      },
      "source": [
        "Lp_problemlab3"
      ],
      "execution_count": 14,
      "outputs": [
        {
          "output_type": "execute_result",
          "data": {
            "text/plain": [
              "2nd_LP_problem:\n",
              "MINIMIZE\n",
              "20*x1 + 10*x2 + 0\n",
              "SUBJECT TO\n",
              "_C1: x1 + 2 x2 <= 40\n",
              "\n",
              "_C2: 3 x1 + x2 >= 30\n",
              "\n",
              "_C3: 4 x1 + 3 x2 >= 60\n",
              "\n",
              "VARIABLES\n",
              "x1 Continuous\n",
              "x2 Continuous"
            ]
          },
          "metadata": {
            "tags": []
          },
          "execution_count": 14
        }
      ]
    },
    {
      "cell_type": "code",
      "metadata": {
        "id": "lMT1k2OOIOKB",
        "colab_type": "code",
        "colab": {
          "base_uri": "https://localhost:8080/",
          "height": 34
        },
        "outputId": "5551c218-0c85-4d03-e1ab-018868983a29"
      },
      "source": [
        "Lp_problemlab3.solve()"
      ],
      "execution_count": 15,
      "outputs": [
        {
          "output_type": "execute_result",
          "data": {
            "text/plain": [
              "1"
            ]
          },
          "metadata": {
            "tags": []
          },
          "execution_count": 15
        }
      ]
    },
    {
      "cell_type": "code",
      "metadata": {
        "id": "ZPEjwfIBIR03",
        "colab_type": "code",
        "colab": {
          "base_uri": "https://localhost:8080/",
          "height": 35
        },
        "outputId": "0806e5ee-7715-4246-a676-7e969b009a99"
      },
      "source": [
        "LpStatus[Lp_problemlab3.status]"
      ],
      "execution_count": 16,
      "outputs": [
        {
          "output_type": "execute_result",
          "data": {
            "application/vnd.google.colaboratory.intrinsic+json": {
              "type": "string"
            },
            "text/plain": [
              "'Optimal'"
            ]
          },
          "metadata": {
            "tags": []
          },
          "execution_count": 16
        }
      ]
    },
    {
      "cell_type": "code",
      "metadata": {
        "id": "dPFocTqcITqQ",
        "colab_type": "code",
        "colab": {
          "base_uri": "https://localhost:8080/",
          "height": 50
        },
        "outputId": "40255bb4-3b71-40a5-9a48-e624eb653ae0"
      },
      "source": [
        "for variable in Lp_problemlab3.variables():\n",
        "    print(\"{} = {}\". format(variable.name, variable.varValue))"
      ],
      "execution_count": 17,
      "outputs": [
        {
          "output_type": "stream",
          "text": [
            "x1 = 6.0\n",
            "x2 = 12.0\n"
          ],
          "name": "stdout"
        }
      ]
    },
    {
      "cell_type": "code",
      "metadata": {
        "id": "ZOVtySpxIVnc",
        "colab_type": "code",
        "colab": {
          "base_uri": "https://localhost:8080/",
          "height": 34
        },
        "outputId": "3e7819d5-8255-4c4c-b5b7-e109191338b1"
      },
      "source": [
        "value(Lp_problemlab3.objective)"
      ],
      "execution_count": 18,
      "outputs": [
        {
          "output_type": "execute_result",
          "data": {
            "text/plain": [
              "240.0"
            ]
          },
          "metadata": {
            "tags": []
          },
          "execution_count": 18
        }
      ]
    },
    {
      "cell_type": "code",
      "metadata": {
        "id": "_2WjcGoIIW8S",
        "colab_type": "code",
        "colab": {}
      },
      "source": [
        ""
      ],
      "execution_count": null,
      "outputs": []
    }
  ]
}