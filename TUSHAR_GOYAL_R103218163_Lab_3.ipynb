{
  "nbformat": 4,
  "nbformat_minor": 0,
  "metadata": {
    "colab": {
      "name": "TUSHAR GOYAL_R103218163_Lab-3",
      "provenance": [],
      "authorship_tag": "ABX9TyMh5smTaKytpk7265PlKC6D",
      "include_colab_link": true
    },
    "kernelspec": {
      "name": "python3",
      "display_name": "Python 3"
    }
  },
  "cells": [
    {
      "cell_type": "markdown",
      "metadata": {
        "id": "view-in-github",
        "colab_type": "text"
      },
      "source": [
        "<a href=\"https://colab.research.google.com/github/tushargoyalbtp/LPP/blob/master/TUSHAR_GOYAL_R103218163_Lab_3.ipynb\" target=\"_parent\"><img src=\"https://colab.research.google.com/assets/colab-badge.svg\" alt=\"Open In Colab\"/></a>"
      ]
    },
    {
      "cell_type": "markdown",
      "metadata": {
        "id": "yc3NrvkkBd_F",
        "colab_type": "text"
      },
      "source": [
        "#Question 3\n",
        "\n"
      ]
    },
    {
      "cell_type": "markdown",
      "metadata": {
        "id": "9dwaqOBPBnLf",
        "colab_type": "text"
      },
      "source": [
        "##Maximize $z=x_{1}+x_{2}+3x_{3}$\n",
        "###Subject to,\n",
        "####$3x_{1}+2x_{2}+x_{3}<=300$\n",
        "#####$2x_{1}+x_{2}+2x_{3}<=200$\n",
        "######$x_{1}>=0,x_{2}>=0,x_{3}>=0$"
      ]
    },
    {
      "cell_type": "code",
      "metadata": {
        "id": "nbSeHLwlEY-Q",
        "colab_type": "code",
        "colab": {
          "base_uri": "https://localhost:8080/",
          "height": 302
        },
        "outputId": "e76b44c1-47d5-4898-d46e-9c0bf1b75cbf"
      },
      "source": [
        "!pip install pulp"
      ],
      "execution_count": 1,
      "outputs": [
        {
          "output_type": "stream",
          "text": [
            "Collecting pulp\n",
            "\u001b[?25l  Downloading https://files.pythonhosted.org/packages/c3/22/5743d7b5d69f84fb63a0b4925862522dbf80e82defcd0c447afb694f3fd0/PuLP-2.3-py3-none-any.whl (40.6MB)\n",
            "\u001b[K     |████████████████████████████████| 40.6MB 95kB/s \n",
            "\u001b[?25hCollecting amply>=0.1.2\n",
            "  Downloading https://files.pythonhosted.org/packages/7f/11/33cb09557ac838d9488779b79e05a2a3c1f3ce9747cd242ba68332736778/amply-0.1.2.tar.gz\n",
            "  Installing build dependencies ... \u001b[?25l\u001b[?25hdone\n",
            "  Getting requirements to build wheel ... \u001b[?25l\u001b[?25hdone\n",
            "    Preparing wheel metadata ... \u001b[?25l\u001b[?25hdone\n",
            "Requirement already satisfied: pyparsing in /usr/local/lib/python3.6/dist-packages (from amply>=0.1.2->pulp) (2.4.7)\n",
            "Requirement already satisfied: docutils>=0.3 in /usr/local/lib/python3.6/dist-packages (from amply>=0.1.2->pulp) (0.15.2)\n",
            "Building wheels for collected packages: amply\n",
            "  Building wheel for amply (PEP 517) ... \u001b[?25l\u001b[?25hdone\n",
            "  Created wheel for amply: filename=amply-0.1.2-cp36-none-any.whl size=16573 sha256=105ca651d073f61fde063a34e9981e67a9137c6dd2e0149480e3b6fedfe097b0\n",
            "  Stored in directory: /root/.cache/pip/wheels/84/18/f7/e5c3ed13ed5bb721763f77d4a924331d59ef115ce61c9d26eb\n",
            "Successfully built amply\n",
            "Installing collected packages: amply, pulp\n",
            "Successfully installed amply-0.1.2 pulp-2.3\n"
          ],
          "name": "stdout"
        }
      ]
    },
    {
      "cell_type": "code",
      "metadata": {
        "id": "_SQd0KPMAn2J",
        "colab_type": "code",
        "colab": {}
      },
      "source": [
        "from pulp import *"
      ],
      "execution_count": 2,
      "outputs": []
    },
    {
      "cell_type": "code",
      "metadata": {
        "id": "ewhmLBa0ExBb",
        "colab_type": "code",
        "colab": {
          "base_uri": "https://localhost:8080/",
          "height": 50
        },
        "outputId": "81075c6d-0f6e-4783-f31e-eb42ce15b788"
      },
      "source": [
        "Lp_problemlab3 = LpProblem(\"3rd LP problem\", LpMaximize)"
      ],
      "execution_count": 3,
      "outputs": [
        {
          "output_type": "stream",
          "text": [
            "/usr/local/lib/python3.6/dist-packages/pulp/pulp.py:1195: UserWarning: Spaces are not permitted in the name. Converted to '_'\n",
            "  warnings.warn(\"Spaces are not permitted in the name. Converted to '_'\")\n"
          ],
          "name": "stderr"
        }
      ]
    },
    {
      "cell_type": "code",
      "metadata": {
        "id": "Aog2-NBgE3hW",
        "colab_type": "code",
        "colab": {}
      },
      "source": [
        "x1=LpVariable('x1', lowBound=0, cat='Continuous')\n",
        "x2=LpVariable('x2', lowBound=0, cat='Continuous')\n",
        "x3=LpVariable('x3', lowBound=0, cat='Continuous')"
      ],
      "execution_count": 4,
      "outputs": []
    },
    {
      "cell_type": "code",
      "metadata": {
        "id": "D3NYWuzdE-dS",
        "colab_type": "code",
        "colab": {}
      },
      "source": [
        "Lp_problemlab3 += x1+x2+3*x3, \"z\""
      ],
      "execution_count": 5,
      "outputs": []
    },
    {
      "cell_type": "code",
      "metadata": {
        "id": "Jd-w-XNCFOcg",
        "colab_type": "code",
        "colab": {}
      },
      "source": [
        "Lp_problemlab3 += 3*x1+2*x2+x3 <= 300\n",
        "Lp_problemlab3 += 2*x1+x2+2*x3 <= 200\n"
      ],
      "execution_count": 6,
      "outputs": []
    },
    {
      "cell_type": "code",
      "metadata": {
        "id": "4fbNqe8yFi3b",
        "colab_type": "code",
        "colab": {
          "base_uri": "https://localhost:8080/",
          "height": 218
        },
        "outputId": "3c915adc-50c6-4702-f325-81c685928e34"
      },
      "source": [
        "Lp_problemlab3"
      ],
      "execution_count": 7,
      "outputs": [
        {
          "output_type": "execute_result",
          "data": {
            "text/plain": [
              "3rd_LP_problem:\n",
              "MAXIMIZE\n",
              "1*x1 + 1*x2 + 3*x3 + 0\n",
              "SUBJECT TO\n",
              "_C1: 3 x1 + 2 x2 + x3 <= 300\n",
              "\n",
              "_C2: 2 x1 + x2 + 2 x3 <= 200\n",
              "\n",
              "VARIABLES\n",
              "x1 Continuous\n",
              "x2 Continuous\n",
              "x3 Continuous"
            ]
          },
          "metadata": {
            "tags": []
          },
          "execution_count": 7
        }
      ]
    },
    {
      "cell_type": "code",
      "metadata": {
        "id": "lTPVGvZNFl5R",
        "colab_type": "code",
        "colab": {
          "base_uri": "https://localhost:8080/",
          "height": 34
        },
        "outputId": "f02ad389-e527-42cd-d54b-a277a131d281"
      },
      "source": [
        "Lp_problemlab3.solve()"
      ],
      "execution_count": 8,
      "outputs": [
        {
          "output_type": "execute_result",
          "data": {
            "text/plain": [
              "1"
            ]
          },
          "metadata": {
            "tags": []
          },
          "execution_count": 8
        }
      ]
    },
    {
      "cell_type": "code",
      "metadata": {
        "id": "VmZCp6anFoms",
        "colab_type": "code",
        "colab": {
          "base_uri": "https://localhost:8080/",
          "height": 35
        },
        "outputId": "f5f09032-2465-4406-eea9-ee8e2330e1b4"
      },
      "source": [
        "LpStatus[Lp_problemlab3.status]"
      ],
      "execution_count": 9,
      "outputs": [
        {
          "output_type": "execute_result",
          "data": {
            "application/vnd.google.colaboratory.intrinsic+json": {
              "type": "string"
            },
            "text/plain": [
              "'Optimal'"
            ]
          },
          "metadata": {
            "tags": []
          },
          "execution_count": 9
        }
      ]
    },
    {
      "cell_type": "code",
      "metadata": {
        "id": "oGHgL4MOFszy",
        "colab_type": "code",
        "colab": {
          "base_uri": "https://localhost:8080/",
          "height": 67
        },
        "outputId": "4662833d-b039-42ec-cd4d-c617c1d472d6"
      },
      "source": [
        "for variable in Lp_problemlab3.variables():\n",
        "    print(\"{} = {}\". format(variable.name, variable.varValue))"
      ],
      "execution_count": 10,
      "outputs": [
        {
          "output_type": "stream",
          "text": [
            "x1 = 0.0\n",
            "x2 = 0.0\n",
            "x3 = 100.0\n"
          ],
          "name": "stdout"
        }
      ]
    },
    {
      "cell_type": "code",
      "metadata": {
        "id": "VATGaI7aFwjD",
        "colab_type": "code",
        "colab": {
          "base_uri": "https://localhost:8080/",
          "height": 34
        },
        "outputId": "480204ca-7e67-4d3b-dc04-82d941df2add"
      },
      "source": [
        "value(Lp_problemlab3.objective)"
      ],
      "execution_count": 11,
      "outputs": [
        {
          "output_type": "execute_result",
          "data": {
            "text/plain": [
              "300.0"
            ]
          },
          "metadata": {
            "tags": []
          },
          "execution_count": 11
        }
      ]
    },
    {
      "cell_type": "code",
      "metadata": {
        "id": "W9k_qleaF07Y",
        "colab_type": "code",
        "colab": {}
      },
      "source": [
        ""
      ],
      "execution_count": null,
      "outputs": []
    }
  ]
}