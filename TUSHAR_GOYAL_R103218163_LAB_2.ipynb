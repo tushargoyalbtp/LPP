{
  "nbformat": 4,
  "nbformat_minor": 0,
  "metadata": {
    "colab": {
      "name": "TUSHAR GOYAL_R103218163_LAB-2",
      "provenance": [],
      "collapsed_sections": [],
      "authorship_tag": "ABX9TyOw2Xlh0zmJy+Rf7agA+4jw",
      "include_colab_link": true
    },
    "kernelspec": {
      "name": "python3",
      "display_name": "Python 3"
    }
  },
  "cells": [
    {
      "cell_type": "markdown",
      "metadata": {
        "id": "view-in-github",
        "colab_type": "text"
      },
      "source": [
        "<a href=\"https://colab.research.google.com/github/tushargoyalbtp/LPP/blob/master/TUSHAR_GOYAL_R103218163_LAB_2.ipynb\" target=\"_parent\"><img src=\"https://colab.research.google.com/assets/colab-badge.svg\" alt=\"Open In Colab\"/></a>"
      ]
    },
    {
      "cell_type": "code",
      "metadata": {
        "id": "nXb7QeowNgAw",
        "colab_type": "code",
        "colab": {}
      },
      "source": [
        ""
      ],
      "execution_count": null,
      "outputs": []
    },
    {
      "cell_type": "markdown",
      "metadata": {
        "id": "YXHSLypHOVxz",
        "colab_type": "text"
      },
      "source": [
        "#Question2 \n",
        "The Agricultural research Institute suggested to a farmer to spread out at least 4800 kg of a special phosphate fertilizer and not less than 7200 kg of a special nitrogen fertilizer to raise productivity of crops in his fields. There are two sources for obtaining these − mixtures A and B. Both of these are available in bags weighing 100 kg each and they cost Rs. 40 and Rs. 24 respectively. Mixture A contains phosphate and nitrogen equivalent of 20 kg and 80 kg respectively, while mixture B contains these ingredients equivalent of 50 kg each.Write as a linear programming problem to determine how many bags of each type the farmer should buy in order to obtain the required fertilizer at a minimum cost."
      ]
    },
    {
      "cell_type": "markdown",
      "metadata": {
        "id": "S6oMatMsOeIJ",
        "colab_type": "text"
      },
      "source": [
        "### Minimize$z=40_{x1}+50_{x2}$\n",
        "####subject to constraints $20_{x1}+50_{x2}>=4800$\n",
        "####$20_{x1}+50_{x2}>=4800$\n",
        "####$80_{x1}+50_{x2}>=7200$\n",
        "#####$x_{1}>=0, x_{2}>=0$"
      ]
    },
    {
      "cell_type": "code",
      "metadata": {
        "id": "4o_sX6GKTb3q",
        "colab_type": "code",
        "colab": {
          "base_uri": "https://localhost:8080/",
          "height": 302
        },
        "outputId": "96305340-749f-4cbb-bf61-4663bf082506"
      },
      "source": [
        "!pip install pulp"
      ],
      "execution_count": 2,
      "outputs": [
        {
          "output_type": "stream",
          "text": [
            "Collecting pulp\n",
            "\u001b[?25l  Downloading https://files.pythonhosted.org/packages/c3/22/5743d7b5d69f84fb63a0b4925862522dbf80e82defcd0c447afb694f3fd0/PuLP-2.3-py3-none-any.whl (40.6MB)\n",
            "\u001b[K     |████████████████████████████████| 40.6MB 97kB/s \n",
            "\u001b[?25hCollecting amply>=0.1.2\n",
            "  Downloading https://files.pythonhosted.org/packages/7f/11/33cb09557ac838d9488779b79e05a2a3c1f3ce9747cd242ba68332736778/amply-0.1.2.tar.gz\n",
            "  Installing build dependencies ... \u001b[?25l\u001b[?25hdone\n",
            "  Getting requirements to build wheel ... \u001b[?25l\u001b[?25hdone\n",
            "    Preparing wheel metadata ... \u001b[?25l\u001b[?25hdone\n",
            "Requirement already satisfied: docutils>=0.3 in /usr/local/lib/python3.6/dist-packages (from amply>=0.1.2->pulp) (0.15.2)\n",
            "Requirement already satisfied: pyparsing in /usr/local/lib/python3.6/dist-packages (from amply>=0.1.2->pulp) (2.4.7)\n",
            "Building wheels for collected packages: amply\n",
            "  Building wheel for amply (PEP 517) ... \u001b[?25l\u001b[?25hdone\n",
            "  Created wheel for amply: filename=amply-0.1.2-cp36-none-any.whl size=16572 sha256=5fff5728ab400bb86eb1cd79bee4862ead01cb9403964210213917e27a63278b\n",
            "  Stored in directory: /root/.cache/pip/wheels/84/18/f7/e5c3ed13ed5bb721763f77d4a924331d59ef115ce61c9d26eb\n",
            "Successfully built amply\n",
            "Installing collected packages: amply, pulp\n",
            "Successfully installed amply-0.1.2 pulp-2.3\n"
          ],
          "name": "stdout"
        }
      ]
    },
    {
      "cell_type": "code",
      "metadata": {
        "id": "fGzla9D7TUMT",
        "colab_type": "code",
        "colab": {}
      },
      "source": [
        "from pulp import *"
      ],
      "execution_count": 3,
      "outputs": []
    },
    {
      "cell_type": "code",
      "metadata": {
        "id": "Gyr4VUFUTXYm",
        "colab_type": "code",
        "colab": {
          "base_uri": "https://localhost:8080/",
          "height": 50
        },
        "outputId": "da4980e1-714a-4b6a-fd60-91d8adf40a00"
      },
      "source": [
        "Lp_problem2 = LpProblem(\"2ndt LP PROBLEM\", LpMinimize)"
      ],
      "execution_count": 11,
      "outputs": [
        {
          "output_type": "stream",
          "text": [
            "/usr/local/lib/python3.6/dist-packages/pulp/pulp.py:1195: UserWarning: Spaces are not permitted in the name. Converted to '_'\n",
            "  warnings.warn(\"Spaces are not permitted in the name. Converted to '_'\")\n"
          ],
          "name": "stderr"
        }
      ]
    },
    {
      "cell_type": "code",
      "metadata": {
        "id": "S16ZILpLThR5",
        "colab_type": "code",
        "colab": {}
      },
      "source": [
        "x1 = LpVariable('x1', lowBound=0 , cat='Continuous')\n",
        "x2 = LpVariable('x2', lowBound=0, cat='Continuous')"
      ],
      "execution_count": 12,
      "outputs": []
    },
    {
      "cell_type": "code",
      "metadata": {
        "id": "mmWeuhHrTl0Q",
        "colab_type": "code",
        "colab": {}
      },
      "source": [
        "Lp_problem2 += 40 * x1 + 50 * x2 , \"z\""
      ],
      "execution_count": 13,
      "outputs": []
    },
    {
      "cell_type": "code",
      "metadata": {
        "id": "BIrCCPdSTtC6",
        "colab_type": "code",
        "colab": {}
      },
      "source": [
        "Lp_problem2 += 20 * x1 + 50 * x2 >= 4800\n",
        "Lp_problem2 += 80 * x1 + 50 * x2 >= 7200"
      ],
      "execution_count": 14,
      "outputs": []
    },
    {
      "cell_type": "code",
      "metadata": {
        "id": "gLqpiWeIT_Qg",
        "colab_type": "code",
        "colab": {
          "base_uri": "https://localhost:8080/",
          "height": 202
        },
        "outputId": "8e8404c9-9ab4-4562-a45f-d3a15508fb25"
      },
      "source": [
        "Lp_problem2"
      ],
      "execution_count": 15,
      "outputs": [
        {
          "output_type": "execute_result",
          "data": {
            "text/plain": [
              "2ndt_LP_PROBLEM:\n",
              "MINIMIZE\n",
              "40*x1 + 50*x2 + 0\n",
              "SUBJECT TO\n",
              "_C1: 20 x1 + 50 x2 >= 4800\n",
              "\n",
              "_C2: 80 x1 + 50 x2 >= 7200\n",
              "\n",
              "VARIABLES\n",
              "x1 Continuous\n",
              "x2 Continuous"
            ]
          },
          "metadata": {
            "tags": []
          },
          "execution_count": 15
        }
      ]
    },
    {
      "cell_type": "code",
      "metadata": {
        "id": "TnzgYwgMUBin",
        "colab_type": "code",
        "colab": {
          "base_uri": "https://localhost:8080/",
          "height": 34
        },
        "outputId": "60739224-84e9-4507-e3f3-cffeb6d92ed5"
      },
      "source": [
        "Lp_problem2.solve()"
      ],
      "execution_count": 16,
      "outputs": [
        {
          "output_type": "execute_result",
          "data": {
            "text/plain": [
              "1"
            ]
          },
          "metadata": {
            "tags": []
          },
          "execution_count": 16
        }
      ]
    },
    {
      "cell_type": "code",
      "metadata": {
        "id": "N5xLGUJ7UEy_",
        "colab_type": "code",
        "colab": {
          "base_uri": "https://localhost:8080/",
          "height": 35
        },
        "outputId": "7d53aefc-6be3-4a29-9ecc-8a506530d2c8"
      },
      "source": [
        "LpStatus[Lp_problem2.status]"
      ],
      "execution_count": 17,
      "outputs": [
        {
          "output_type": "execute_result",
          "data": {
            "application/vnd.google.colaboratory.intrinsic+json": {
              "type": "string"
            },
            "text/plain": [
              "'Optimal'"
            ]
          },
          "metadata": {
            "tags": []
          },
          "execution_count": 17
        }
      ]
    },
    {
      "cell_type": "code",
      "metadata": {
        "id": "AKQf5KrSUH3g",
        "colab_type": "code",
        "colab": {
          "base_uri": "https://localhost:8080/",
          "height": 50
        },
        "outputId": "2d9cc169-75fc-491b-c1e8-c6025f159884"
      },
      "source": [
        "for variable in Lp_problem2.variables():\n",
        "    print(\"{} = {}\". format(variable.name, variable.varValue))"
      ],
      "execution_count": 18,
      "outputs": [
        {
          "output_type": "stream",
          "text": [
            "x1 = 40.0\n",
            "x2 = 80.0\n"
          ],
          "name": "stdout"
        }
      ]
    },
    {
      "cell_type": "code",
      "metadata": {
        "id": "KdW09px7UeF8",
        "colab_type": "code",
        "colab": {
          "base_uri": "https://localhost:8080/",
          "height": 34
        },
        "outputId": "b43f0369-9549-4f75-97dc-20f5e428eb20"
      },
      "source": [
        "value(Lp_problem2.objective)"
      ],
      "execution_count": 19,
      "outputs": [
        {
          "output_type": "execute_result",
          "data": {
            "text/plain": [
              "5600.0"
            ]
          },
          "metadata": {
            "tags": []
          },
          "execution_count": 19
        }
      ]
    },
    {
      "cell_type": "code",
      "metadata": {
        "id": "tm1fjSjQUj-h",
        "colab_type": "code",
        "colab": {}
      },
      "source": [
        ""
      ],
      "execution_count": null,
      "outputs": []
    }
  ]
}