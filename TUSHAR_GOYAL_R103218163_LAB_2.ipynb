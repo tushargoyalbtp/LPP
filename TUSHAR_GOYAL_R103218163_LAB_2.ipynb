{
  "nbformat": 4,
  "nbformat_minor": 0,
  "metadata": {
    "colab": {
      "name": "TUSHAR GOYAL_R103218163_LAB-2",
      "provenance": [],
      "authorship_tag": "ABX9TyPWHNaUylgiCIcWALVDV0oi",
      "include_colab_link": true
    },
    "kernelspec": {
      "name": "python3",
      "display_name": "Python 3"
    }
  },
  "cells": [
    {
      "cell_type": "markdown",
      "metadata": {
        "id": "view-in-github",
        "colab_type": "text"
      },
      "source": [
        "<a href=\"https://colab.research.google.com/github/tushargoyalbtp/LPP/blob/master/TUSHAR_GOYAL_R103218163_LAB_2.ipynb\" target=\"_parent\"><img src=\"https://colab.research.google.com/assets/colab-badge.svg\" alt=\"Open In Colab\"/></a>"
      ]
    },
    {
      "cell_type": "markdown",
      "metadata": {
        "id": "OoS_RoLLcsiA",
        "colab_type": "text"
      },
      "source": [
        "#Question2\n"
      ]
    },
    {
      "cell_type": "code",
      "metadata": {
        "id": "Nnl7jIBpcAs5",
        "colab_type": "code",
        "colab": {}
      },
      "source": [
        ""
      ],
      "execution_count": null,
      "outputs": []
    },
    {
      "cell_type": "markdown",
      "metadata": {
        "id": "oZX8IzjDc1M1",
        "colab_type": "text"
      },
      "source": [
        "##The Agricultural research Institute suggested to a farmer to spread out at least 4800 kg of a special phosphate fertilizer and not less than 7200 kg of a special nitrogen fertilizer to raise productivity of crops in his fields. There are two sources for obtaining these − mixtures A and B. Both of these are available in bags weighing 100 kg each and they cost Rs. 40 and Rs. 24 respectively. Mixture A contains phosphate and nitrogen equivalent of 20 kg and 80 kg respectively, while mixture B contains these ingredients equivalent of 50 kg each.Write as a linear programming problem to determine how many bags of each type the farmer should buy in order to obtain the required fertilizer at a minimum cost."
      ]
    },
    {
      "cell_type": "markdown",
      "metadata": {
        "id": "P23cBOM7c-FH",
        "colab_type": "text"
      },
      "source": [
        "###Minimize $z=40x_{1}+50x_{2}$\n",
        "####subject to constraints $20x_{1}+50x_{2}>=4800$\n",
        "#####$80x_{1}+50x_{2}>=7200$\n",
        "######$x_{1}>=0, +x_{2}>=0$"
      ]
    },
    {
      "cell_type": "code",
      "metadata": {
        "id": "Gq6LXNcBere8",
        "colab_type": "code",
        "colab": {
          "base_uri": "https://localhost:8080/",
          "height": 302
        },
        "outputId": "7228a93c-238f-424b-c167-39005390f74e"
      },
      "source": [
        "!pip install pulp"
      ],
      "execution_count": 1,
      "outputs": [
        {
          "output_type": "stream",
          "text": [
            "Collecting pulp\n",
            "\u001b[?25l  Downloading https://files.pythonhosted.org/packages/c3/22/5743d7b5d69f84fb63a0b4925862522dbf80e82defcd0c447afb694f3fd0/PuLP-2.3-py3-none-any.whl (40.6MB)\n",
            "\u001b[K     |████████████████████████████████| 40.6MB 102kB/s \n",
            "\u001b[?25hCollecting amply>=0.1.2\n",
            "  Downloading https://files.pythonhosted.org/packages/7f/11/33cb09557ac838d9488779b79e05a2a3c1f3ce9747cd242ba68332736778/amply-0.1.2.tar.gz\n",
            "  Installing build dependencies ... \u001b[?25l\u001b[?25hdone\n",
            "  Getting requirements to build wheel ... \u001b[?25l\u001b[?25hdone\n",
            "    Preparing wheel metadata ... \u001b[?25l\u001b[?25hdone\n",
            "Requirement already satisfied: pyparsing in /usr/local/lib/python3.6/dist-packages (from amply>=0.1.2->pulp) (2.4.7)\n",
            "Requirement already satisfied: docutils>=0.3 in /usr/local/lib/python3.6/dist-packages (from amply>=0.1.2->pulp) (0.15.2)\n",
            "Building wheels for collected packages: amply\n",
            "  Building wheel for amply (PEP 517) ... \u001b[?25l\u001b[?25hdone\n",
            "  Created wheel for amply: filename=amply-0.1.2-cp36-none-any.whl size=16572 sha256=b995acbf19fe7df18dd2d97d658d075a4b6122615719f6b577f4265bf0808103\n",
            "  Stored in directory: /root/.cache/pip/wheels/84/18/f7/e5c3ed13ed5bb721763f77d4a924331d59ef115ce61c9d26eb\n",
            "Successfully built amply\n",
            "Installing collected packages: amply, pulp\n",
            "Successfully installed amply-0.1.2 pulp-2.3\n"
          ],
          "name": "stdout"
        }
      ]
    },
    {
      "cell_type": "code",
      "metadata": {
        "id": "3GoMtMsJeujw",
        "colab_type": "code",
        "colab": {}
      },
      "source": [
        "from pulp import *"
      ],
      "execution_count": 2,
      "outputs": []
    },
    {
      "cell_type": "code",
      "metadata": {
        "id": "6ZN6SXRyew0C",
        "colab_type": "code",
        "colab": {
          "base_uri": "https://localhost:8080/",
          "height": 50
        },
        "outputId": "b3d57a58-11ca-4379-88ff-4d121387b2d5"
      },
      "source": [
        "Lp_problem2 = LpProblem(\"2nd LP PROBLEM\", LpMinimize)"
      ],
      "execution_count": 3,
      "outputs": [
        {
          "output_type": "stream",
          "text": [
            "/usr/local/lib/python3.6/dist-packages/pulp/pulp.py:1195: UserWarning: Spaces are not permitted in the name. Converted to '_'\n",
            "  warnings.warn(\"Spaces are not permitted in the name. Converted to '_'\")\n"
          ],
          "name": "stderr"
        }
      ]
    },
    {
      "cell_type": "code",
      "metadata": {
        "id": "ku7r-O-Le-jT",
        "colab_type": "code",
        "colab": {}
      },
      "source": [
        "x1 = LpVariable('x1', lowBound=0 , cat='Continuous')\n",
        "x2 = LpVariable('x2', lowBound=0, cat='Continuous')"
      ],
      "execution_count": 4,
      "outputs": []
    },
    {
      "cell_type": "code",
      "metadata": {
        "id": "FnOfGAuwfDEF",
        "colab_type": "code",
        "colab": {}
      },
      "source": [
        "Lp_problem2 += 40 * x1 + 50 * x2 , \"z\""
      ],
      "execution_count": 5,
      "outputs": []
    },
    {
      "cell_type": "code",
      "metadata": {
        "id": "SyRG7xrnfI_T",
        "colab_type": "code",
        "colab": {}
      },
      "source": [
        "Lp_problem2 += 20 * x1 + 50 * x2 >= 4800\n",
        "Lp_problem2 += 80 * x1 + 50 * x2 >= 7200"
      ],
      "execution_count": 6,
      "outputs": []
    },
    {
      "cell_type": "code",
      "metadata": {
        "id": "SdiyeKbafU7H",
        "colab_type": "code",
        "colab": {
          "base_uri": "https://localhost:8080/",
          "height": 202
        },
        "outputId": "9bddc554-b998-4599-e73e-224e5f2e6c48"
      },
      "source": [
        "Lp_problem2"
      ],
      "execution_count": 7,
      "outputs": [
        {
          "output_type": "execute_result",
          "data": {
            "text/plain": [
              "2nd_LP_PROBLEM:\n",
              "MINIMIZE\n",
              "40*x1 + 50*x2 + 0\n",
              "SUBJECT TO\n",
              "_C1: 20 x1 + 50 x2 >= 4800\n",
              "\n",
              "_C2: 80 x1 + 50 x2 >= 7200\n",
              "\n",
              "VARIABLES\n",
              "x1 Continuous\n",
              "x2 Continuous"
            ]
          },
          "metadata": {
            "tags": []
          },
          "execution_count": 7
        }
      ]
    },
    {
      "cell_type": "code",
      "metadata": {
        "id": "Skw1Zll1fXR4",
        "colab_type": "code",
        "colab": {
          "base_uri": "https://localhost:8080/",
          "height": 34
        },
        "outputId": "f90d0f5a-8942-498c-fb2a-57a979dd6456"
      },
      "source": [
        "Lp_problem2.solve()"
      ],
      "execution_count": 8,
      "outputs": [
        {
          "output_type": "execute_result",
          "data": {
            "text/plain": [
              "1"
            ]
          },
          "metadata": {
            "tags": []
          },
          "execution_count": 8
        }
      ]
    },
    {
      "cell_type": "code",
      "metadata": {
        "id": "msyy4MfAfZ0L",
        "colab_type": "code",
        "colab": {
          "base_uri": "https://localhost:8080/",
          "height": 35
        },
        "outputId": "c42bd62c-9e61-43ba-83a2-edbadad5abfc"
      },
      "source": [
        "LpStatus[Lp_problem2.status]"
      ],
      "execution_count": 9,
      "outputs": [
        {
          "output_type": "execute_result",
          "data": {
            "application/vnd.google.colaboratory.intrinsic+json": {
              "type": "string"
            },
            "text/plain": [
              "'Optimal'"
            ]
          },
          "metadata": {
            "tags": []
          },
          "execution_count": 9
        }
      ]
    },
    {
      "cell_type": "code",
      "metadata": {
        "id": "H7oq5_dMfc49",
        "colab_type": "code",
        "colab": {
          "base_uri": "https://localhost:8080/",
          "height": 50
        },
        "outputId": "b4b526b7-2363-4bc9-ac24-dc444ddc4f01"
      },
      "source": [
        "for variable in Lp_problem2.variables():\n",
        "    print(\"{} = {}\". format(variable.name, variable.varValue))"
      ],
      "execution_count": 10,
      "outputs": [
        {
          "output_type": "stream",
          "text": [
            "x1 = 40.0\n",
            "x2 = 80.0\n"
          ],
          "name": "stdout"
        }
      ]
    },
    {
      "cell_type": "code",
      "metadata": {
        "id": "OeGm8_n5fhCF",
        "colab_type": "code",
        "colab": {
          "base_uri": "https://localhost:8080/",
          "height": 34
        },
        "outputId": "90ed206a-3a87-41b6-a27f-facec8e929e3"
      },
      "source": [
        "value(Lp_problem2.objective)"
      ],
      "execution_count": 11,
      "outputs": [
        {
          "output_type": "execute_result",
          "data": {
            "text/plain": [
              "5600.0"
            ]
          },
          "metadata": {
            "tags": []
          },
          "execution_count": 11
        }
      ]
    },
    {
      "cell_type": "code",
      "metadata": {
        "id": "hYKq_Pnffk1Q",
        "colab_type": "code",
        "colab": {}
      },
      "source": [
        ""
      ],
      "execution_count": null,
      "outputs": []
    }
  ]
}