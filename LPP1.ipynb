{
  "nbformat": 4,
  "nbformat_minor": 0,
  "metadata": {
    "colab": {
      "name": "Untitled1.ipynb",
      "provenance": [],
      "collapsed_sections": [],
      "authorship_tag": "ABX9TyN3PPhknOdFhMlbRvn72Ole",
      "include_colab_link": true
    },
    "kernelspec": {
      "name": "python3",
      "display_name": "Python 3"
    }
  },
  "cells": [
    {
      "cell_type": "markdown",
      "metadata": {
        "id": "view-in-github",
        "colab_type": "text"
      },
      "source": [
        "<a href=\"https://colab.research.google.com/github/tushargoyalbtp/LPP/blob/master/LPP1.ipynb\" target=\"_parent\"><img src=\"https://colab.research.google.com/assets/colab-badge.svg\" alt=\"Open In Colab\"/></a>"
      ]
    },
    {
      "cell_type": "code",
      "metadata": {
        "id": "4mJF6algZt6S",
        "colab_type": "code",
        "colab": {}
      },
      "source": [
        ""
      ],
      "execution_count": null,
      "outputs": []
    },
    {
      "cell_type": "code",
      "metadata": {
        "id": "jAzbtK_AW9nX",
        "colab_type": "code",
        "colab": {
          "base_uri": "https://localhost:8080/",
          "height": 84
        },
        "outputId": "ed7d7eb7-bffe-485f-940b-9e9408ef2168"
      },
      "source": [
        "!pip install pulp"
      ],
      "execution_count": null,
      "outputs": [
        {
          "output_type": "stream",
          "text": [
            "Requirement already satisfied: pulp in /usr/local/lib/python3.6/dist-packages (2.3)\n",
            "Requirement already satisfied: amply>=0.1.2 in /usr/local/lib/python3.6/dist-packages (from pulp) (0.1.2)\n",
            "Requirement already satisfied: docutils>=0.3 in /usr/local/lib/python3.6/dist-packages (from amply>=0.1.2->pulp) (0.15.2)\n",
            "Requirement already satisfied: pyparsing in /usr/local/lib/python3.6/dist-packages (from amply>=0.1.2->pulp) (2.4.7)\n"
          ],
          "name": "stdout"
        }
      ]
    },
    {
      "cell_type": "code",
      "metadata": {
        "id": "tMs5YPgwZvlD",
        "colab_type": "code",
        "colab": {}
      },
      "source": [
        "from pulp import *"
      ],
      "execution_count": null,
      "outputs": []
    },
    {
      "cell_type": "markdown",
      "metadata": {
        "id": "0j4yZtj_Z9J2",
        "colab_type": "text"
      },
      "source": [
        "LPP \n",
        "\n",
        "maximize z = 4x+3y\n",
        "subject to x >= 0\n",
        "y >= 22\n",
        "y <= 25-x\n",
        "4y >= 2x-8\n",
        "y <= 2x-5"
      ]
    },
    {
      "cell_type": "code",
      "metadata": {
        "id": "A00nPStLZzVb",
        "colab_type": "code",
        "colab": {
          "base_uri": "https://localhost:8080/",
          "height": 50
        },
        "outputId": "7a8cabb0-472a-41d9-9417-6818eb72aff8"
      },
      "source": [
        "my_lp_problem = LpProblem(\"My LP PROBLEM\", LpMinimize)"
      ],
      "execution_count": null,
      "outputs": [
        {
          "output_type": "stream",
          "text": [
            "/usr/local/lib/python3.6/dist-packages/pulp/pulp.py:1195: UserWarning: Spaces are not permitted in the name. Converted to '_'\n",
            "  warnings.warn(\"Spaces are not permitted in the name. Converted to '_'\")\n"
          ],
          "name": "stderr"
        }
      ]
    },
    {
      "cell_type": "code",
      "metadata": {
        "id": "Rsnrg_ItbR2o",
        "colab_type": "code",
        "colab": {}
      },
      "source": [
        "x = LpVariable('x', lowBound=0 , cat='Continuous')"
      ],
      "execution_count": null,
      "outputs": []
    },
    {
      "cell_type": "code",
      "metadata": {
        "id": "BIjR_WSpc11r",
        "colab_type": "code",
        "colab": {}
      },
      "source": [
        "y = LpVariable('y', lowBound=0 , cat='Continuous')"
      ],
      "execution_count": null,
      "outputs": []
    },
    {
      "cell_type": "code",
      "metadata": {
        "id": "aYK9i2sOdG9P",
        "colab_type": "code",
        "colab": {}
      },
      "source": [
        "my_lp_problem += 4*x+3*y, \"z\""
      ],
      "execution_count": null,
      "outputs": []
    },
    {
      "cell_type": "code",
      "metadata": {
        "id": "0eMAUTjTfCHr",
        "colab_type": "code",
        "colab": {}
      },
      "source": [
        "my_lp_problem += y <= 25 - x \n",
        "my_lp_problem += 4*y >= 2*x-8\n",
        "my_lp_problem += y <= 2 * x-5\n",
        "#my_lp_problem += y >= 22"
      ],
      "execution_count": null,
      "outputs": []
    },
    {
      "cell_type": "code",
      "metadata": {
        "id": "qDs2CQD0hEKW",
        "colab_type": "code",
        "colab": {
          "base_uri": "https://localhost:8080/",
          "height": 235
        },
        "outputId": "c0fe7987-4fce-4c51-ede2-f4a4d859fa48"
      },
      "source": [
        "my_lp_problem"
      ],
      "execution_count": null,
      "outputs": [
        {
          "output_type": "execute_result",
          "data": {
            "text/plain": [
              "My_LP_PROBLEM:\n",
              "MINIMIZE\n",
              "4*x + 3*y + 0\n",
              "SUBJECT TO\n",
              "_C1: x + y <= 25\n",
              "\n",
              "_C2: - 2 x + 4 y >= -8\n",
              "\n",
              "_C3: - 2 x + y <= -5\n",
              "\n",
              "VARIABLES\n",
              "x Continuous\n",
              "y Continuous"
            ]
          },
          "metadata": {
            "tags": []
          },
          "execution_count": 108
        }
      ]
    },
    {
      "cell_type": "code",
      "metadata": {
        "id": "eguXixJ0hd2G",
        "colab_type": "code",
        "colab": {
          "base_uri": "https://localhost:8080/",
          "height": 35
        },
        "outputId": "7634db70-a5c3-461e-b3dd-a9adeee63f40"
      },
      "source": [
        "my_lp_problem.solve()\n",
        "LpStatus[my_lp_problem.status]"
      ],
      "execution_count": null,
      "outputs": [
        {
          "output_type": "execute_result",
          "data": {
            "application/vnd.google.colaboratory.intrinsic+json": {
              "type": "string"
            },
            "text/plain": [
              "'Optimal'"
            ]
          },
          "metadata": {
            "tags": []
          },
          "execution_count": 109
        }
      ]
    },
    {
      "cell_type": "code",
      "metadata": {
        "id": "q-kDRzYAjCoF",
        "colab_type": "code",
        "colab": {
          "base_uri": "https://localhost:8080/",
          "height": 50
        },
        "outputId": "0966f211-d87a-415b-eb51-a95f0b82e76a"
      },
      "source": [
        "for variable in my_lp_problem.variables():\n",
        "    print (\"{} = {}\". format(variable.name, variable.varValue))"
      ],
      "execution_count": null,
      "outputs": [
        {
          "output_type": "stream",
          "text": [
            "x = 2.5\n",
            "y = 0.0\n"
          ],
          "name": "stdout"
        }
      ]
    },
    {
      "cell_type": "code",
      "metadata": {
        "id": "p4Dazqt3kmnV",
        "colab_type": "code",
        "colab": {
          "base_uri": "https://localhost:8080/",
          "height": 34
        },
        "outputId": "18569c70-6e0e-43a1-9704-cf921405a095"
      },
      "source": [
        "value(my_lp_problem.objective)"
      ],
      "execution_count": null,
      "outputs": [
        {
          "output_type": "execute_result",
          "data": {
            "text/plain": [
              "10.0"
            ]
          },
          "metadata": {
            "tags": []
          },
          "execution_count": 111
        }
      ]
    },
    {
      "cell_type": "code",
      "metadata": {
        "id": "lwMDsF3mo7iG",
        "colab_type": "code",
        "colab": {
          "base_uri": "https://localhost:8080/",
          "height": 34
        },
        "outputId": "9bbc4e47-b7b0-49e2-e7b3-30a196fd9544"
      },
      "source": [
        "print(value(x), value(y), value(my_lp_problem.objective)) "
      ],
      "execution_count": null,
      "outputs": [
        {
          "output_type": "stream",
          "text": [
            "2.5 0.0 10.0\n"
          ],
          "name": "stdout"
        }
      ]
    },
    {
      "cell_type": "code",
      "metadata": {
        "id": "4bBj0h85qJ28",
        "colab_type": "code",
        "colab": {}
      },
      "source": [
        ""
      ],
      "execution_count": null,
      "outputs": []
    }
  ]
}